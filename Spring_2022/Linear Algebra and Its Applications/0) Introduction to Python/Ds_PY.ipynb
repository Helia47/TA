{
  "nbformat": 4,
  "nbformat_minor": 0,
  "metadata": {
    "colab": {
      "name": "Ds_PY.ipynb",
      "provenance": []
    },
    "kernelspec": {
      "name": "python3",
      "display_name": "Python 3"
    },
    "language_info": {
      "name": "python"
    }
  },
  "cells": [
    {
      "cell_type": "markdown",
      "source": [
        " \n",
        "* ***List***\n",
        "\n",
        "* ***String***\n",
        "\n",
        "* ***Tuple***\n",
        "\n",
        "* ***Dictionary***"
      ],
      "metadata": {
        "id": "Y-JuGIh6FIQB"
      }
    },
    {
      "cell_type": "markdown",
      "source": [
        "# List \n",
        "\n",
        "Python lists are one of the most versatile data types that allow us to work with multiple elements at once. For example : "
      ],
      "metadata": {
        "id": "MvyuaIOOFn0Z"
      }
    },
    {
      "cell_type": "code",
      "source": [
        "# a list of programming languages\n",
        "['Python', 'C++', 'JavaScript']"
      ],
      "metadata": {
        "id": "g7Li9jT3FRjw"
      },
      "execution_count": null,
      "outputs": []
    },
    {
      "cell_type": "markdown",
      "source": [
        "## Create Python Lists\n",
        "\n",
        "\n",
        "In Python, a list is created by placing elements inside square brackets `[]`, separated by commas."
      ],
      "metadata": {
        "id": "YbpW_z6HF0ze"
      }
    },
    {
      "cell_type": "code",
      "source": [
        "my_list = [1, 2, 3]"
      ],
      "metadata": {
        "id": "NgI9WeeiFwz8"
      },
      "execution_count": null,
      "outputs": []
    },
    {
      "cell_type": "markdown",
      "source": [
        "A list can have any number of items and they may be of different types (integer, float, string, etc.)."
      ],
      "metadata": {
        "id": "NpZvL3OYGWRA"
      }
    },
    {
      "cell_type": "code",
      "source": [
        "my_list = []                        #Empty List\n",
        "my_list = [1, \"Hello\", 3.4]         #list with mixed data types"
      ],
      "metadata": {
        "id": "1is-BV8JGRHx"
      },
      "execution_count": null,
      "outputs": []
    },
    {
      "cell_type": "markdown",
      "source": [
        "A list can also have another list as an item. This is called a nested list.\n",
        "\n"
      ],
      "metadata": {
        "id": "MBJWsmqDGo3m"
      }
    },
    {
      "cell_type": "code",
      "source": [
        "my_list = [\"mouse\", [8, 4, 6], ['a']]"
      ],
      "metadata": {
        "id": "urPXrQW0GlEs"
      },
      "execution_count": null,
      "outputs": []
    },
    {
      "cell_type": "markdown",
      "source": [
        "## Access List Elements\n",
        "\n",
        "There are various ways in which we can access the elements of a list.\n",
        "\n",
        "**List Index**\n",
        "\n",
        "We can use the index operator `[]` to access an item in a list. In Python, indices start at 0. So, a list having 5 elements will have an index from 0 to 4.\n",
        "\n",
        "Trying to access indexes other than these will raise an `IndexError`. The index must be an integer. We can't use float or other types, this will result in `TypeError`.\n",
        "\n",
        "Nested lists are accessed using nested indexing.\n",
        "\n"
      ],
      "metadata": {
        "id": "SEeIjqnvGt3A"
      }
    },
    {
      "cell_type": "code",
      "source": [
        "my_list = ['p', 'r', 'o', 'b', 'e']\n",
        "\n",
        "# first item\n",
        "print(my_list[0])  # p\n",
        "\n",
        "# third item\n",
        "print(my_list[2])  # o\n",
        "\n",
        "# fifth item\n",
        "print(my_list[4])  # e\n",
        "\n",
        "# Nested List\n",
        "n_list = [\"Happy\", [2, 0, 1, 5]]\n",
        "\n",
        "# Nested indexing\n",
        "print(n_list[0][1])\n",
        "\n",
        "print(n_list[1][3])\n",
        "\n",
        "# Error! Only integer can be used for indexing\n",
        "print(my_list[4.0])"
      ],
      "metadata": {
        "id": "ZRQEVFiCGsIy",
        "colab": {
          "base_uri": "https://localhost:8080/",
          "height": 288
        },
        "outputId": "a5d30f13-65fa-41c5-d383-c47f6a930707"
      },
      "execution_count": null,
      "outputs": [
        {
          "output_type": "stream",
          "name": "stdout",
          "text": [
            "p\n",
            "o\n",
            "e\n",
            "a\n",
            "5\n"
          ]
        },
        {
          "output_type": "error",
          "ename": "TypeError",
          "evalue": "ignored",
          "traceback": [
            "\u001b[0;31m---------------------------------------------------------------------------\u001b[0m",
            "\u001b[0;31mTypeError\u001b[0m                                 Traceback (most recent call last)",
            "\u001b[0;32m<ipython-input-2-947d63342a45>\u001b[0m in \u001b[0;36m<module>\u001b[0;34m()\u001b[0m\n\u001b[1;32m     19\u001b[0m \u001b[0;34m\u001b[0m\u001b[0m\n\u001b[1;32m     20\u001b[0m \u001b[0;31m# Error! Only integer can be used for indexing\u001b[0m\u001b[0;34m\u001b[0m\u001b[0;34m\u001b[0m\u001b[0;34m\u001b[0m\u001b[0m\n\u001b[0;32m---> 21\u001b[0;31m \u001b[0mprint\u001b[0m\u001b[0;34m(\u001b[0m\u001b[0mmy_list\u001b[0m\u001b[0;34m[\u001b[0m\u001b[0;36m4.0\u001b[0m\u001b[0;34m]\u001b[0m\u001b[0;34m)\u001b[0m\u001b[0;34m\u001b[0m\u001b[0;34m\u001b[0m\u001b[0m\n\u001b[0m",
            "\u001b[0;31mTypeError\u001b[0m: list indices must be integers or slices, not float"
          ]
        }
      ]
    },
    {
      "cell_type": "markdown",
      "source": [
        "# Negative indexing\n",
        "\n",
        "Python allows negative indexing for its sequences. The index of -1 refers to the last item, -2 to the second last item and so on."
      ],
      "metadata": {
        "id": "SMt8Oc3SHyt4"
      }
    },
    {
      "cell_type": "code",
      "source": [
        "# Negative indexing in lists\n",
        "my_list = ['p','r','o','b','e']\n",
        "\n",
        "# last item\n",
        "print(my_list[-1])\n",
        "\n",
        "# fifth last item\n",
        "print(my_list[-5])"
      ],
      "metadata": {
        "id": "LD2zAHlvHSsr"
      },
      "execution_count": null,
      "outputs": []
    },
    {
      "cell_type": "markdown",
      "source": [
        "## List Slicing in Python\n",
        "\n",
        "We can access a range of items in a list by using the slicing operator `:`.\n",
        "\n"
      ],
      "metadata": {
        "id": "IwNXcsCYI3ZA"
      }
    },
    {
      "cell_type": "code",
      "source": [
        "# List slicing in Python\n",
        "\n",
        "my_list = ['p','r','o','g','r','a','m','i','z']\n",
        "\n",
        "print(my_list[2:5])         # elements from index 2 to index 4\n",
        "\n",
        "print(my_list[5:])          # elements from index 5 to end\n",
        "\n",
        "print(my_list[:])           # elements beginning to end"
      ],
      "metadata": {
        "id": "OFgfkxG8I0b5"
      },
      "execution_count": null,
      "outputs": []
    },
    {
      "cell_type": "code",
      "source": [
        "#  by steps\n",
        "#  rverse ?? "
      ],
      "metadata": {
        "id": "iGQanlRXJYuY"
      },
      "execution_count": null,
      "outputs": []
    },
    {
      "cell_type": "markdown",
      "source": [
        "## Add/Change List Elements\n",
        "\n",
        "\n",
        "Lists are mutable, meaning their elements can be changed unlike **string** or **tuple**.\n",
        "\n",
        "We can use the assignment operator `=` to change an item or a range of items.\n",
        "\n"
      ],
      "metadata": {
        "id": "LiaJxK3lKqSr"
      }
    },
    {
      "cell_type": "code",
      "source": [
        "# Correcting mistake values in a list\n",
        "odd = [2, 4, 6, 8]\n",
        "\n",
        "# change the 1st item    \n",
        "odd[0] = 1            \n",
        "\n",
        "print(odd)\n",
        "\n",
        "# change 2nd to 4th items\n",
        "odd[1:4] = [3, 5, 7]  \n",
        "\n",
        "print(odd)            "
      ],
      "metadata": {
        "id": "Q2jD0a5GJ9wM"
      },
      "execution_count": null,
      "outputs": []
    },
    {
      "cell_type": "markdown",
      "source": [
        "We can add one item to a list using the `append() `method or add several items using the `extend()` method."
      ],
      "metadata": {
        "id": "03KW5slSLeuH"
      }
    },
    {
      "cell_type": "code",
      "source": [
        "# Appending and Extending lists in Python\n",
        "odd = [1, 3, 5]\n",
        "\n",
        "odd.append(7)\n",
        "\n",
        "print(odd)\n",
        "\n",
        "odd.extend([9, 11, 13])\n",
        "\n",
        "print(odd)"
      ],
      "metadata": {
        "id": "S3j-j5yzLVav",
        "colab": {
          "base_uri": "https://localhost:8080/"
        },
        "outputId": "98f8519e-2555-4a27-dd5b-82edccc748ff"
      },
      "execution_count": null,
      "outputs": [
        {
          "output_type": "stream",
          "name": "stdout",
          "text": [
            "[1, 3, 5, 7]\n",
            "[1, 3, 5, 7, 9, 11, 13]\n"
          ]
        }
      ]
    },
    {
      "cell_type": "markdown",
      "source": [
        "We can also use `+` operator to combine two lists. This is also called concatenation.\n",
        "\n",
        "The `*` operator repeats a list for the given number of times."
      ],
      "metadata": {
        "id": "8Q8dZUnnL7Zl"
      }
    },
    {
      "cell_type": "code",
      "source": [
        "# Concatenating and repeating lists\n",
        "odd = [1, 3, 5]\n",
        "\n",
        "print(odd + [9, 7, 5])\n",
        "\n",
        "print([\"re\"] * 3)"
      ],
      "metadata": {
        "id": "COmodWeqL0d_"
      },
      "execution_count": null,
      "outputs": []
    },
    {
      "cell_type": "markdown",
      "source": [
        "Furthermore, we can insert one item at a desired location by using the method `insert()` or insert multiple items by squeezing it into an empty slice of a list."
      ],
      "metadata": {
        "id": "nOXNyEmLMLnX"
      }
    },
    {
      "cell_type": "code",
      "source": [
        "# Demonstration of list insert() method\n",
        "odd = [1, 9]\n",
        "odd.insert(1,3)\n",
        "\n",
        "print(odd)\n",
        "\n",
        "odd[2:2] = [5, 7]\n",
        "\n",
        "print(odd)"
      ],
      "metadata": {
        "id": "0kay9m5EMGO1",
        "colab": {
          "base_uri": "https://localhost:8080/"
        },
        "outputId": "603afc63-9b66-4c89-d588-a8877a73c12d"
      },
      "execution_count": null,
      "outputs": [
        {
          "output_type": "stream",
          "name": "stdout",
          "text": [
            "[1, 3, 9]\n",
            "[1, 3, 5, 7, 9]\n"
          ]
        }
      ]
    },
    {
      "cell_type": "markdown",
      "source": [
        "# Delete List Elements\n",
        "\n",
        "We can delete one or more items from a list using the Python del statement. It can even delete the list entirely."
      ],
      "metadata": {
        "id": "qPvRA2dtNTRS"
      }
    },
    {
      "cell_type": "code",
      "source": [
        "# Deleting list items\n",
        "my_list = ['p', 'r', 'o', 'b', 'l', 'e', 'm']\n",
        "\n",
        "# delete one item\n",
        "del my_list[2]\n",
        "\n",
        "print(my_list)\n",
        "\n",
        "# delete multiple items\n",
        "del my_list[1:5]\n",
        "\n",
        "print(my_list)\n",
        "\n",
        "# delete the entire list\n",
        "del my_list\n",
        "\n",
        "# Error: List not defined\n",
        "print(my_list)"
      ],
      "metadata": {
        "id": "N8MUNlnLMTjK"
      },
      "execution_count": null,
      "outputs": []
    },
    {
      "cell_type": "markdown",
      "source": [
        "We can use `remove()` to remove the given item or `pop()` to remove an item at the given index.\n",
        "\n",
        "The `pop()` method removes and returns the last item if the index is not provided. This helps us implement lists as stacks (first in, last out data structure).\n",
        "\n",
        "And, if we have to empty the whole list, we can use the clear() method."
      ],
      "metadata": {
        "id": "s33lP4-MNqbr"
      }
    },
    {
      "cell_type": "code",
      "source": [
        "my_list = ['p','r','o','b','l','e','m']\n",
        "my_list.remove('p')\n",
        "\n",
        "# Output: ['r', 'o', 'b', 'l', 'e', 'm']\n",
        "print(my_list)\n",
        "\n",
        "# Output: 'o'\n",
        "print(my_list.pop(1))\n",
        "\n",
        "# Output: ['r', 'b', 'l', 'e', 'm']\n",
        "print(my_list)\n",
        "\n",
        "# Output: 'm'\n",
        "print(my_list.pop())\n",
        "\n",
        "# Output: ['r', 'b', 'l', 'e']\n",
        "print(my_list)\n",
        "\n",
        "my_list.clear()\n",
        "\n",
        "# Output: []\n",
        "print(my_list)"
      ],
      "metadata": {
        "id": "OPYHzhVfNlf1",
        "colab": {
          "base_uri": "https://localhost:8080/"
        },
        "outputId": "6bc3837b-0eb8-44b5-a550-5f98e6f4f3ef"
      },
      "execution_count": null,
      "outputs": [
        {
          "output_type": "stream",
          "name": "stdout",
          "text": [
            "['r', 'o', 'b', 'l', 'e', 'm']\n",
            "o\n",
            "['r', 'b', 'l', 'e', 'm']\n",
            "m\n",
            "['r', 'b', 'l', 'e']\n",
            "[]\n"
          ]
        }
      ]
    },
    {
      "cell_type": "markdown",
      "source": [
        "## Python List Methods\n",
        "\n",
        "\n",
        "Python has many useful list methods that makes it really easy to work with lists. Here are some of the commonly used list methods.\n",
        "\n",
        "\n",
        "append() ===> adds an element to the end of the list\n",
        "\n",
        "extend()  ===> adds all elements of a list to another list\n",
        "\n",
        "insert() ===> inserts an item at the defined index\n",
        "\n",
        "remove() ===> removes an item from the list\n",
        "pop() ===> returns and removes an element at the given index\n",
        "\n",
        "clear() ===> removes all items from the list\n",
        "\n",
        "index() ===> returns the index of the first matched item\n",
        "\n",
        "count() ===> returns the count of the number of items passed as an argument\n",
        "\n",
        "sort() ===> sort items in a list in ascending order\n",
        "\n",
        "reverse() ===> reverse the order of items in the list\n",
        "\n",
        "copy() ===> returns a shallow copy of the list"
      ],
      "metadata": {
        "id": "XDfZF25aPrn_"
      }
    },
    {
      "cell_type": "markdown",
      "source": [
        "---\n",
        "---\n"
      ],
      "metadata": {
        "id": "AhmmR19TRzdc"
      }
    },
    {
      "cell_type": "markdown",
      "source": [
        "# String \n",
        "\n",
        "Strings in python are surrounded by either single quotation marks, or double quotation marks.\n",
        "\n",
        "`'hello'` is the same as `\"hello\"`.\n",
        "\n",
        "      \n",
        "\n",
        "```\n",
        "      print(\"Hello\")\n",
        "      print('Hello')\n",
        "```\n",
        "\n",
        "\n",
        "## Slicing\n",
        "You can return a range of characters by using the slice syntax.\n",
        "\n",
        "Specify the start index and the end index, separated by a colon, to return a part of the string.\n"
      ],
      "metadata": {
        "id": "Jphtxa_qSFiX"
      }
    },
    {
      "cell_type": "code",
      "source": [
        "b = \"Hello, World!\"\n",
        "print(b[2:5])"
      ],
      "metadata": {
        "id": "YeCoC2pYTBwA"
      },
      "execution_count": null,
      "outputs": []
    },
    {
      "cell_type": "markdown",
      "source": [
        "**Slice From the Start**\n",
        "\n",
        "By leaving out the start index, the range will start at the first character:"
      ],
      "metadata": {
        "id": "vXrrP4dmTVxd"
      }
    },
    {
      "cell_type": "code",
      "source": [
        "b = \"Hello, World!\"\n",
        "print(b[:5])"
      ],
      "metadata": {
        "id": "lLoJJ1hfTQRw"
      },
      "execution_count": null,
      "outputs": []
    },
    {
      "cell_type": "markdown",
      "source": [
        "## Modify Strings\n",
        "\n",
        "### Upper Case & Lower Case\n"
      ],
      "metadata": {
        "id": "eQ00WAFFTr-_"
      }
    },
    {
      "cell_type": "code",
      "source": [
        "a = \"Hello, World!\"\n",
        "\n",
        "print(a.upper())\n",
        "\n",
        "print(a.lower()) "
      ],
      "metadata": {
        "id": "CXVKfYFMTfEw"
      },
      "execution_count": null,
      "outputs": []
    },
    {
      "cell_type": "markdown",
      "source": [
        "### Remove Whitespace\n",
        "Whitespace is the space before and/or after the actual text, and very often you want to remove this space."
      ],
      "metadata": {
        "id": "Z1ub9YNhT-w3"
      }
    },
    {
      "cell_type": "code",
      "source": [
        "a = \" Hello, World! \"\n",
        "print(a.strip())"
      ],
      "metadata": {
        "id": "KP6lTjgLT8kX"
      },
      "execution_count": null,
      "outputs": []
    },
    {
      "cell_type": "markdown",
      "source": [
        "### Replace String & Split String"
      ],
      "metadata": {
        "id": "QohC9irgUPD6"
      }
    },
    {
      "cell_type": "code",
      "source": [
        "a = \"Hello, World!\"\n",
        "\n",
        "print(a.replace(\"H\", \"J\"))\n",
        "\n",
        "'''\n",
        "  The split() method returns a list where the text between the specified separator becomes the list items.\n",
        "'''\n",
        "print(a.split(\",\"))"
      ],
      "metadata": {
        "id": "ipFiS4_WUIML"
      },
      "execution_count": null,
      "outputs": []
    },
    {
      "cell_type": "markdown",
      "source": [
        "## String Concatenation\n",
        "\n",
        "--> To concatenate, or combine, two strings you can use the + operator."
      ],
      "metadata": {
        "id": "VtJP6dWjUrCK"
      }
    },
    {
      "cell_type": "code",
      "source": [
        "a = \"Hello\"\n",
        "b = \"World\"\n",
        "c = a + b\n",
        "print(c)"
      ],
      "metadata": {
        "id": "SSBjUe5iUg-p"
      },
      "execution_count": null,
      "outputs": []
    },
    {
      "cell_type": "markdown",
      "source": [
        "# String Format\n",
        "\n",
        "As we learned in the Python Variables , we cannot combine strings and numbers like this: \n",
        "\n",
        "\n",
        "```\n",
        "age = 36\n",
        "txt = \"My name is John, I am \" + age\n",
        "print(txt)\n",
        "\n",
        "```\n",
        "\n",
        "\n",
        "But we can combine strings and numbers by using the `format()` method!\n",
        "\n",
        "The `format()` method takes the passed arguments, formats them, and places them in the string where the placeholders `{}` are:"
      ],
      "metadata": {
        "id": "Bs5UXIXcVAWC"
      }
    },
    {
      "cell_type": "code",
      "source": [
        "age = 36\n",
        "txt = \"My name is John, and I am {}\"\n",
        "print(txt.format(age))"
      ],
      "metadata": {
        "id": "M87HDyjsU3W5"
      },
      "execution_count": null,
      "outputs": []
    },
    {
      "cell_type": "code",
      "source": [
        "# The format() method takes unlimited number of arguments, and are placed into the respective placeholders:\n",
        "quantity = 3\n",
        "itemno = 567\n",
        "price = 49.95\n",
        "myorder = \"I want {} pieces of item {} for {} dollars.\"\n",
        "print(myorder.format(quantity, itemno, price))"
      ],
      "metadata": {
        "id": "qyz4OXW0VdYe"
      },
      "execution_count": null,
      "outputs": []
    },
    {
      "cell_type": "code",
      "source": [
        "# You can use index numbers {0} to be sure the arguments are placed in the correct placeholders:\n",
        "quantity = 3\n",
        "itemno = 567\n",
        "price = 49.95\n",
        "myorder = \"I want to pay {2} dollars for {0} pieces of item {1}.\"\n",
        "print(myorder.format(quantity, itemno, price))"
      ],
      "metadata": {
        "id": "tMYAP6maVl-9",
        "colab": {
          "base_uri": "https://localhost:8080/"
        },
        "outputId": "fd9c8ac8-269a-4203-9e4c-44dae847a591"
      },
      "execution_count": null,
      "outputs": [
        {
          "output_type": "stream",
          "name": "stdout",
          "text": [
            "I want to pay 49.95 dollars for 3 pieces of item 567.\n"
          ]
        }
      ]
    },
    {
      "cell_type": "markdown",
      "source": [
        "---\n",
        "---\n",
        "\n",
        "# Tuple\n",
        "\n",
        "\n",
        "Tuples are used to store multiple items in a single variable.\n",
        "\n",
        "Tuple is one of 4 built-in data types in Python used to store collections of data, the other 3 are List, Set, and Dictionary, all with different qualities and usage.\n",
        "\n",
        "A tuple is a collection which is ordered and **unchangeable**.\n",
        "\n",
        "\n",
        "\n",
        "```\n",
        " mytuple = (\"apple\", \"banana\", \"cherry\") \n",
        "```\n",
        "\n",
        "### Creating a Tuple\n",
        "\n",
        "\n",
        "A tuple is created by placing all the items (elements) inside parentheses (), separated by commas. The parentheses are optional, however, it is a good practice to use them.\n",
        "\n",
        "A tuple can have any number of items and they may be of different types (integer, float, list, string, etc.)."
      ],
      "metadata": {
        "id": "pQmLa3ru-WMV"
      }
    },
    {
      "cell_type": "code",
      "source": [
        "# Different types of tuples\n",
        "\n",
        "# Empty tuple\n",
        "my_tuple = ()\n",
        "print(my_tuple)\n",
        "\n",
        "# Tuple having integers\n",
        "my_tuple = (1, 2, 3)\n",
        "print(my_tuple)\n",
        "\n",
        "# tuple with mixed datatypes\n",
        "my_tuple = (1, \"Hello\", 3.4)\n",
        "print(my_tuple)\n",
        "\n",
        "# nested tuple\n",
        "my_tuple = (\"mouse\", [8, 4, 6], (1, 2, 3))\n",
        "print(my_tuple)"
      ],
      "metadata": {
        "id": "pYB9gqzjVt7T"
      },
      "execution_count": null,
      "outputs": []
    },
    {
      "cell_type": "code",
      "source": [
        "# A tuple can also be created without using parentheses. This is known as tuple packing.\n",
        "\n",
        "my_tuple = 3, 4.6, \"dog\"\n",
        "print(my_tuple)\n",
        "\n",
        "# tuple unpacking is also possible\n",
        "a, b, c = my_tuple\n",
        "\n",
        "print(a)      \n",
        "print(b)      \n",
        "print(c)      \n",
        "\n",
        "\n",
        "'''\n",
        "a, *b, c =(1, 2, 3, 4)\n",
        "'''"
      ],
      "metadata": {
        "id": "yvfY79I9_igF"
      },
      "execution_count": null,
      "outputs": []
    },
    {
      "cell_type": "markdown",
      "source": [
        "Creating a tuple with one element is a bit tricky.\n",
        "\n",
        "Having one element within parentheses is not enough. We will need a trailing comma to indicate that it is, in fact, a tuple."
      ],
      "metadata": {
        "id": "GKmasOQa_-2h"
      }
    },
    {
      "cell_type": "code",
      "source": [
        "my_tuple = (\"hello\")\n",
        "print(type(my_tuple))  # <class 'str'>\n",
        "\n",
        "# Creating a tuple having one element\n",
        "my_tuple = (\"hello\",)\n",
        "print(type(my_tuple))  # <class 'tuple'>\n",
        "\n",
        "# Parentheses is optional\n",
        "my_tuple = \"hello\",\n",
        "print(type(my_tuple))  # <class 'tuple'>"
      ],
      "metadata": {
        "id": "GqrgGWSr_yj4"
      },
      "execution_count": null,
      "outputs": []
    },
    {
      "cell_type": "markdown",
      "source": [
        " ## Access Tuple Elements\n",
        "\n",
        " There are various ways in which we can access the elements of a tuple.\n",
        "\n",
        "### Indexing\n",
        "\n",
        "We can use the index operator `[]` to access an item in a tuple, where the index starts from 0.\n",
        "\n",
        "So, a tuple having 6 elements will have indices from 0 to 5. Trying to access an index outside of the tuple index range(6,7,... in this example) will raise an IndexError.\n",
        "\n",
        "The index must be an integer, so we cannot use float or other types. This will result in `TypeError`.\n",
        "\n",
        "Likewise, nested tuples are accessed using nested indexing, as shown in the example below."
      ],
      "metadata": {
        "id": "5T3NdGWDAI53"
      }
    },
    {
      "cell_type": "code",
      "source": [
        "# Accessing tuple elements using indexing\n",
        "my_tuple = ('p','e','r','m','i','t')\n",
        "\n",
        "print(my_tuple[0])   # 'p' \n",
        "print(my_tuple[5])   # 't'\n",
        "\n",
        "# IndexError: list index out of range\n",
        "# print(my_tuple[6])\n",
        "\n",
        "# Index must be an integer\n",
        "# TypeError: list indices must be integers, not float\n",
        "# my_tuple[2.0]\n",
        "\n",
        "# nested tuple\n",
        "n_tuple = (\"mouse\", [8, 4, 6], (1, 2, 3))\n",
        "\n",
        "# nested index\n",
        "print(n_tuple[0][3])       # 's'\n",
        "print(n_tuple[1][1])       # 4"
      ],
      "metadata": {
        "id": "Xdz3TCkmAE2O"
      },
      "execution_count": null,
      "outputs": []
    },
    {
      "cell_type": "markdown",
      "source": [
        "### Negative Indexing\n",
        "\n",
        "Python allows negative indexing for its sequences.\n",
        "\n",
        "The index of -1 refers to the last item, -2 to the second last item and so on."
      ],
      "metadata": {
        "id": "sNAVDXPTAupb"
      }
    },
    {
      "cell_type": "code",
      "source": [
        "# Negative indexing for accessing tuple elements\n",
        "my_tuple = ('p', 'e', 'r', 'm', 'i', 't')\n",
        "\n",
        "# Output: 't'\n",
        "print(my_tuple[-1])\n",
        "\n",
        "# Output: 'p'\n",
        "print(my_tuple[-6])"
      ],
      "metadata": {
        "id": "19wjfzdSAePL"
      },
      "execution_count": null,
      "outputs": []
    },
    {
      "cell_type": "markdown",
      "source": [
        "## **Slicing**\n",
        "\n",
        "We can access a range of items in a tuple by using the slicing operator colon `:`."
      ],
      "metadata": {
        "id": "Dnu7YpIiA0r9"
      }
    },
    {
      "cell_type": "code",
      "source": [
        "# Accessing tuple elements using slicing\n",
        "my_tuple = ('p','r','o','g','r','a','m','i','z')\n",
        "\n",
        "# elements 2nd to 4th\n",
        "# Output: ('r', 'o', 'g')\n",
        "print(my_tuple[1:4])\n",
        "\n",
        "# elements beginning to 2nd\n",
        "# Output: ('p', 'r')\n",
        "print(my_tuple[:-7])\n",
        "\n",
        "# elements 8th to end\n",
        "# Output: ('i', 'z')\n",
        "print(my_tuple[7:])\n",
        "\n",
        "# elements beginning to end\n",
        "# Output: ('p', 'r', 'o', 'g', 'r', 'a', 'm', 'i', 'z')\n",
        "print(my_tuple[:])"
      ],
      "metadata": {
        "id": "URH62UcDAx2E"
      },
      "execution_count": null,
      "outputs": []
    },
    {
      "cell_type": "markdown",
      "source": [
        "### Changing a Tuple\n",
        "\n",
        "Unlike lists, tuples are immutable.\n",
        "\n",
        "This means that elements of a tuple cannot be changed once they have been assigned. But, if the element is itself a mutable data type like a list, its nested items can be changed.\n",
        "\n",
        "We can also assign a tuple to different values (reassignment)."
      ],
      "metadata": {
        "id": "uarhgiZcBS0f"
      }
    },
    {
      "cell_type": "code",
      "source": [
        "# Changing tuple values\n",
        "my_tuple = (4, 2, 3, [6, 5])\n",
        "\n",
        "\n",
        "# TypeError: 'tuple' object does not support item assignment\n",
        "# my_tuple[1] = 9\n",
        "\n",
        "# However, item of mutable element can be changed\n",
        "my_tuple[3][0] = 9    # Output: (4, 2, 3, [9, 5])\n",
        "print(my_tuple)\n",
        "\n",
        "# Tuples can be reassigned\n",
        "my_tuple = ('p', 'r', 'o', 'g', 'r', 'a', 'm', 'i', 'z')\n",
        "\n",
        "# Output: ('p', 'r', 'o', 'g', 'r', 'a', 'm', 'i', 'z')\n",
        "print(my_tuple)"
      ],
      "metadata": {
        "id": "YzbPmA97A8UO"
      },
      "execution_count": null,
      "outputs": []
    },
    {
      "cell_type": "markdown",
      "source": [
        "We can use `+` operator to combine two tuples. This is called concatenation.\n",
        "\n",
        "We can also repeat the elements in a tuple for a given number of times using the `*` operator.\n",
        "\n",
        "Both `+` and `*` operations result in a new tuple."
      ],
      "metadata": {
        "id": "HtH2-elRBz7a"
      }
    },
    {
      "cell_type": "code",
      "source": [
        "# Concatenation\n",
        "# Output: (1, 2, 3, 4, 5, 6)\n",
        "print((1, 2, 3) + (4, 5, 6))\n",
        "\n",
        "# Repeat\n",
        "# Output: ('Repeat', 'Repeat', 'Repeat')\n",
        "print((\"Repeat\",) * 3)"
      ],
      "metadata": {
        "id": "36ibiS7UBzpx"
      },
      "execution_count": null,
      "outputs": []
    },
    {
      "cell_type": "markdown",
      "source": [
        "###  Deleting a Tuple\n",
        "\n",
        "As discussed above, we cannot change the elements in a tuple. It means that we cannot delete or remove items from a tuple.\n",
        "\n",
        "Deleting a tuple entirely, however, is possible using the keyword `del`."
      ],
      "metadata": {
        "id": "lq8409hlB_ay"
      }
    },
    {
      "cell_type": "code",
      "source": [
        "# Deleting tuples\n",
        "my_tuple = ('p', 'r', 'o', 'g', 'r', 'a', 'm', 'i', 'z')\n",
        "\n",
        "# can't delete items\n",
        "# TypeError: 'tuple' object doesn't support item deletion\n",
        "# del my_tuple[3]\n",
        "\n",
        "# Can delete an entire tuple\n",
        "del my_tuple\n",
        "\n",
        "# NameError: name 'my_tuple' is not defined\n",
        "# print(my_tuple)"
      ],
      "metadata": {
        "id": "e2n3_v98Bs-3"
      },
      "execution_count": null,
      "outputs": []
    },
    {
      "cell_type": "code",
      "source": [
        "my_tuple = ('a', 'p', 'p', 'l', 'e',)\n",
        "\n",
        "print(my_tuple.count('p'))  # Output: 2\n",
        "print(my_tuple.index('l'))  # Output: 3"
      ],
      "metadata": {
        "id": "T6JQODVKCE77"
      },
      "execution_count": null,
      "outputs": []
    },
    {
      "cell_type": "code",
      "source": [
        "# Membership test in tuple\n",
        "my_tuple = ('a', 'p', 'p', 'l', 'e',)\n",
        "\n",
        "# In operation\n",
        "print('a' in my_tuple)\n",
        "print('b' in my_tuple)\n",
        "\n",
        "# Not in operation\n",
        "print('g' not in my_tuple)"
      ],
      "metadata": {
        "id": "JxvAei5ZCSdP"
      },
      "execution_count": null,
      "outputs": []
    },
    {
      "cell_type": "code",
      "source": [
        "'''\n",
        "  Iterating Through a Tuple\n",
        "  We can use a for loop to iterate through each item in a tuple.\n",
        "'''\n",
        "# Using a for loop to iterate through a tuple\n",
        "for name in ('John', 'Kate'):\n",
        "    print(\"Hello\", name)"
      ],
      "metadata": {
        "id": "mYv9lFcDCcjT"
      },
      "execution_count": null,
      "outputs": []
    },
    {
      "cell_type": "markdown",
      "source": [
        "# Dictionary\n",
        "\n",
        "Python dictionary is an unordered collection of items. Each item of a dictionary has a `key/value ` pair.\n",
        "\n",
        "Dictionaries are optimized to retrieve values when the key is known.\n",
        "\n",
        "\n",
        "### Creating Python Dictionary\n",
        " \n",
        " Creating a dictionary is as simple as placing items inside curly braces `{}` separated by commas.\n",
        "\n",
        "An item has a `key` and a corresponding `value` that is expressed as a pair (**key: value**).\n",
        "\n",
        "While the values can be of any data type and can repeat, keys must be of immutable type (string, number or tuple with immutable elements) and must be unique."
      ],
      "metadata": {
        "id": "6wdEspR2D2ob"
      }
    },
    {
      "cell_type": "code",
      "source": [
        "# empty dictionary\n",
        "my_dict = {}\n",
        "\n",
        "# dictionary with integer keys\n",
        "my_dict = {1: 'apple', 2: 'ball'}\n",
        "\n",
        "# dictionary with mixed keys\n",
        "my_dict = {'name': 'John', 1: [2, 4, 3]}\n",
        "\n",
        "# using dict()\n",
        "my_dict = dict({1:'apple', 2:'ball'})\n",
        "\n",
        "# from sequence having each item as a pair\n",
        "my_dict = dict([(1,'apple'), (2,'ball')])"
      ],
      "metadata": {
        "id": "RxbvGLZACurL"
      },
      "execution_count": null,
      "outputs": []
    },
    {
      "cell_type": "markdown",
      "source": [
        "As you can see from above, we can also create a dictionary using the built-in `dict()` function."
      ],
      "metadata": {
        "id": "loHDTryUEmB2"
      }
    },
    {
      "cell_type": "markdown",
      "source": [
        "## Accessing Elements from Dictionary\n",
        "\n",
        "While indexing is used with other data types to access values, a dictionary uses `keys`.\n",
        "\n",
        " Keys can be used either inside square brackets `[]` or with the `get()` method.\n",
        "\n",
        "If we use the square brackets `[]`, `KeyError` is raised in case a key is not found in the dictionary. On the other hand, the `get()` method returns `None` if the key is not found."
      ],
      "metadata": {
        "id": "x8qvXeudEsjl"
      }
    },
    {
      "cell_type": "code",
      "source": [
        "# get vs [] for retrieving elements\n",
        "my_dict = {'name': 'Jack', 'age': 26}\n",
        "\n",
        "# Output: Jack\n",
        "print(my_dict['name'])\n",
        "\n",
        "# Output: 26\n",
        "print(my_dict.get('age'))\n",
        "\n",
        "# Trying to access keys which doesn't exist throws error\n",
        "# Output None\n",
        "print(my_dict.get('address'))\n",
        "\n",
        "# KeyError\n",
        "# print(my_dict['address'])\n"
      ],
      "metadata": {
        "id": "GU9emeqKEejE"
      },
      "execution_count": null,
      "outputs": []
    },
    {
      "cell_type": "markdown",
      "source": [
        "## Changing & Adding Dictionary elements\n",
        "\n",
        "Dictionaries are mutable. We can add new items or change the value of existing items using an assignment operator.\n",
        "\n",
        "If the key is already present, then the existing value gets updated. In case the key is not present, a new (key: value) pair is added to the dictionary."
      ],
      "metadata": {
        "id": "NeVCg13IFWdQ"
      }
    },
    {
      "cell_type": "code",
      "source": [
        "# Changing and adding Dictionary Elements\n",
        "my_dict = {'name': 'Jack', 'age': 26}\n",
        "\n",
        "# update value\n",
        "my_dict['age'] = 27\n",
        "\n",
        "#Output: {'age': 27, 'name': 'Jack'}\n",
        "print(my_dict)\n",
        "\n",
        "# add item\n",
        "my_dict['address'] = 'Downtown'\n",
        "\n",
        "# Output: {'address': 'Downtown', 'age': 27, 'name': 'Jack'}\n",
        "print(my_dict)"
      ],
      "metadata": {
        "id": "gK8J8E9DFK7V"
      },
      "execution_count": null,
      "outputs": []
    },
    {
      "cell_type": "markdown",
      "source": [
        "## Removing elements from Dictionary\n",
        "\n",
        "we can remove a particular item in a dictionary by using the `pop()` method. This method removes an item with the provided `key` and returns the `value`.\n",
        "\n",
        "The `popitem()` method can be used to remove and return an arbitrary `(key, value)` item pair from the dictionary. All the items can be removed at once, using the `clear()` method.\n",
        "\n",
        "We can also use the `del` keyword to remove individual items or the entire dictionary itself."
      ],
      "metadata": {
        "id": "AaWw9y2cFnjM"
      }
    },
    {
      "cell_type": "code",
      "source": [
        "# Removing elements from a dictionary\n",
        "\n",
        "# create a dictionary\n",
        "squares = {1: 1, 2: 4, 3: 9, 4: 16, 5: 25}\n",
        "\n",
        "# remove a particular item, returns its value\n",
        "# Output: 16\n",
        "print(squares.pop(4))\n",
        "\n",
        "# Output: {1: 1, 2: 4, 3: 9, 5: 25}\n",
        "print(squares)\n",
        "\n",
        "# remove an arbitrary item, return (key,value)\n",
        "# Output: (5, 25)\n",
        "print(squares.popitem())\n",
        "\n",
        "# Output: {1: 1, 2: 4, 3: 9}\n",
        "print(squares)\n",
        "\n",
        "# remove all items\n",
        "squares.clear()\n",
        "\n",
        "# Output: {}\n",
        "print(squares)\n",
        "\n",
        "# delete the dictionary itself\n",
        "del squares\n",
        "\n",
        "# Throws Error\n",
        "print(squares)"
      ],
      "metadata": {
        "id": "yz40g78eFjdK"
      },
      "execution_count": null,
      "outputs": []
    },
    {
      "cell_type": "code",
      "source": [
        "# Dictionary Methods\n",
        "marks = {}.fromkeys(['Math', 'English', 'Science'], 0)\n",
        "\n",
        "# Output: {'English': 0, 'Math': 0, 'Science': 0}\n",
        "print(marks)\n",
        "\n",
        "for item in marks.items():\n",
        "    print(item)\n",
        "\n",
        "# Output: ['English', 'Math', 'Science']\n",
        "print(list(sorted(marks.keys())))"
      ],
      "metadata": {
        "id": "0zpAtDHIF_DC"
      },
      "execution_count": null,
      "outputs": []
    },
    {
      "cell_type": "markdown",
      "source": [
        "### Dictionary comprehension\n",
        "\n",
        "\n",
        "Dictionary comprehension is an elegant and concise way to create a new dictionary from an iterable in Python.\n",
        "\n",
        "Dictionary comprehension consists of an expression pair (key: value) followed by a for statement inside curly braces {}.\n",
        "\n",
        "Here is an example to make a dictionary with each item being a pair of a number and its square."
      ],
      "metadata": {
        "id": "cM-vthytGpRs"
      }
    },
    {
      "cell_type": "code",
      "source": [
        "# Dictionary Comprehension\n",
        "squares = {x: x*x for x in range(6)}\n",
        "\n",
        "print(squares)"
      ],
      "metadata": {
        "id": "0p1WR-WaGbAh"
      },
      "execution_count": null,
      "outputs": []
    },
    {
      "cell_type": "code",
      "source": [
        "squares = {}\n",
        "for x in range(6):\n",
        "    squares[x] = x*x\n",
        "print(squares)"
      ],
      "metadata": {
        "id": "NENxnejuGxEF"
      },
      "execution_count": null,
      "outputs": []
    },
    {
      "cell_type": "markdown",
      "source": [
        "A dictionary comprehension can optionally contain more *for* or *if* statements.\n",
        "\n",
        "An optional if statement can filter out items to form the new dictionary.\n",
        "\n",
        "Here are some examples to make a dictionary with only odd items"
      ],
      "metadata": {
        "id": "ZmXhx7gMG-Fk"
      }
    },
    {
      "cell_type": "code",
      "source": [
        "# Dictionary Comprehension with if conditional\n",
        "odd_squares = {x: x*x for x in range(11) if x % 2 == 1}\n",
        "\n",
        "print(odd_squares)"
      ],
      "metadata": {
        "id": "fvGQtcqhG25U"
      },
      "execution_count": null,
      "outputs": []
    },
    {
      "cell_type": "code",
      "source": [
        "# Membership Test for Dictionary Keys\n",
        "squares = {1: 1, 3: 9, 5: 25, 7: 49, 9: 81}\n",
        "\n",
        "# Output: True\n",
        "print(1 in squares)\n",
        "\n",
        "# Output: True\n",
        "print(2 not in squares)\n",
        "\n",
        "# membership tests for key only not value\n",
        "# Output: False\n",
        "print(49 in squares)"
      ],
      "metadata": {
        "id": "fAZ9S_36HIZP"
      },
      "execution_count": null,
      "outputs": []
    },
    {
      "cell_type": "code",
      "source": [
        "# Iterating through a Dictionary\n",
        "squares = {1: 1, 3: 9, 5: 25, 7: 49, 9: 81}\n",
        "for i in squares:\n",
        "    print(squares[i])"
      ],
      "metadata": {
        "id": "qWd0qHNFHMXQ"
      },
      "execution_count": null,
      "outputs": []
    },
    {
      "cell_type": "code",
      "source": [
        "# Dictionary Built-in Functions\n",
        "squares = {0: 0, 1: 1, 3: 9, 5: 25, 7: 49, 9: 81}\n",
        "\n",
        "# Output: False\n",
        "print(all(squares))\n",
        "\n",
        "# Output: True\n",
        "print(any(squares))\n",
        "\n",
        "# Output: 6\n",
        "print(len(squares))\n",
        "\n",
        "# Output: [0, 1, 3, 5, 7, 9]\n",
        "print(sorted(squares))"
      ],
      "metadata": {
        "id": "0FpZDaUGHTSM"
      },
      "execution_count": null,
      "outputs": []
    },
    {
      "cell_type": "code",
      "source": [
        ""
      ],
      "metadata": {
        "id": "TVZiM-5BHbHx"
      },
      "execution_count": null,
      "outputs": []
    }
  ]
}