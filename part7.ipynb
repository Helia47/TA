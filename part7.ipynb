{
  "cells": [
    {
      "cell_type": "markdown",
      "source": [
        "**Generating random numbers**"
      ],
      "metadata": {
        "id": "ndxkiMErSXYn"
      }
    },
    {
      "cell_type": "markdown",
      "source": [
        "You can generate a 2 x 4 array of random integers between 0 and 4 with:"
      ],
      "metadata": {
        "id": "8nHKDIVzSsEL"
      }
    },
    {
      "cell_type": "code",
      "source": [
        "import numpy as np\n",
        "rng = np.random.default_rng(0)\n",
        "rng.integers(5, size=(2, 4))"
      ],
      "metadata": {
        "id": "EYIFVmuHSyUr",
        "outputId": "26c9ba76-dfaf-4c50-ac4b-536eba168f66",
        "colab": {
          "base_uri": "https://localhost:8080/"
        }
      },
      "execution_count": null,
      "outputs": [
        {
          "output_type": "execute_result",
          "data": {
            "text/plain": [
              "array([[4, 3, 2, 1],\n",
              "       [1, 0, 0, 0]])"
            ]
          },
          "metadata": {},
          "execution_count": 6
        }
      ]
    },
    {
      "cell_type": "markdown",
      "source": [
        "**How to get unique items and counts**"
      ],
      "metadata": {
        "id": "Z8TzN9KyTT9E"
      }
    },
    {
      "cell_type": "markdown",
      "source": [
        "you can use np.unique to print the unique values in your array:"
      ],
      "metadata": {
        "id": "Tb9t5M8RTkce"
      }
    },
    {
      "cell_type": "code",
      "source": [
        "a = np.array([11, 11, 12, 13, 14, 15, 16, 17, 12, 13, 11, 14, 18, 19, 20])\n",
        "unique_values = np.unique(a)\n",
        "unique_values"
      ],
      "metadata": {
        "id": "OD76VF0xTeOu",
        "outputId": "c50584e8-bf8c-48ad-c4dc-d350dca40640",
        "colab": {
          "base_uri": "https://localhost:8080/"
        }
      },
      "execution_count": null,
      "outputs": [
        {
          "output_type": "execute_result",
          "data": {
            "text/plain": [
              "array([11, 12, 13, 14, 15, 16, 17, 18, 19, 20])"
            ]
          },
          "metadata": {},
          "execution_count": 12
        }
      ]
    },
    {
      "cell_type": "markdown",
      "source": [
        "This also works with **2D** arrays! "
      ],
      "metadata": {
        "id": "l_m6M0DJT9Cf"
      }
    },
    {
      "cell_type": "code",
      "source": [
        "a_2d = np.array([[1, 2, 3, 4], [5, 6, 7, 8], [9, 10, 11, 12], [1, 2, 3, 4]])\n",
        "unique_values = np.unique(a_2d)\n",
        "unique_values"
      ],
      "metadata": {
        "id": "H5fKyj6UT_W-",
        "outputId": "f8205882-2e18-4b8e-9ff4-b6a9c976e5da",
        "colab": {
          "base_uri": "https://localhost:8080/"
        }
      },
      "execution_count": null,
      "outputs": [
        {
          "output_type": "execute_result",
          "data": {
            "text/plain": [
              "array([ 1,  2,  3,  4,  5,  6,  7,  8,  9, 10, 11, 12])"
            ]
          },
          "metadata": {},
          "execution_count": 14
        }
      ]
    },
    {
      "cell_type": "markdown",
      "source": [
        "To find the unique **rows**, specify **axis=0** and for **columns**, specify **axis=1**."
      ],
      "metadata": {
        "id": "LL8gimq4URFt"
      }
    },
    {
      "cell_type": "code",
      "source": [
        "unique_rows = np.unique(a_2d, axis=0)\n",
        "unique_rows"
      ],
      "metadata": {
        "id": "W6pTVjpnUbJN",
        "outputId": "79e2a1fb-c75d-4c08-c24f-6e2ecbc9f163",
        "colab": {
          "base_uri": "https://localhost:8080/"
        }
      },
      "execution_count": null,
      "outputs": [
        {
          "output_type": "execute_result",
          "data": {
            "text/plain": [
              "array([[ 1,  2,  3,  4],\n",
              "       [ 5,  6,  7,  8],\n",
              "       [ 9, 10, 11, 12]])"
            ]
          },
          "metadata": {},
          "execution_count": 15
        }
      ]
    },
    {
      "cell_type": "markdown",
      "source": [
        "**Transposing and reshaping a matrix**"
      ],
      "metadata": {
        "id": "KOVkiC-9UkGz"
      }
    },
    {
      "cell_type": "code",
      "source": [
        "data = np.array([[1, 2], [5, 3], [4, 6]])\n",
        "data.reshape(2, 3)"
      ],
      "metadata": {
        "colab": {
          "base_uri": "https://localhost:8080/"
        },
        "id": "sVRInD0UroLH",
        "outputId": "2fa425c6-daad-4698-dab6-647744ef1fee"
      },
      "execution_count": null,
      "outputs": [
        {
          "output_type": "execute_result",
          "data": {
            "text/plain": [
              "array([[1, 2, 5],\n",
              "       [3, 4, 6]])"
            ]
          },
          "metadata": {},
          "execution_count": 7
        }
      ]
    },
    {
      "cell_type": "code",
      "source": [
        "data.reshape(3, 2)"
      ],
      "metadata": {
        "colab": {
          "base_uri": "https://localhost:8080/"
        },
        "id": "rW__MYortozV",
        "outputId": "3c4f1917-3b67-4e21-b62f-e4983ee1af54"
      },
      "execution_count": null,
      "outputs": [
        {
          "output_type": "execute_result",
          "data": {
            "text/plain": [
              "array([[1, 2],\n",
              "       [5, 3],\n",
              "       [4, 6]])"
            ]
          },
          "metadata": {},
          "execution_count": 8
        }
      ]
    },
    {
      "cell_type": "markdown",
      "source": [
        "You can also **reverse** or change the axes of an array according to the values you specify."
      ],
      "metadata": {
        "id": "cwgPOpISt3GZ"
      }
    },
    {
      "cell_type": "code",
      "source": [
        "arr = np.arange(6).reshape((2, 3))\n",
        "arr"
      ],
      "metadata": {
        "colab": {
          "base_uri": "https://localhost:8080/"
        },
        "id": "gDxrEHQyt_j1",
        "outputId": "ea88ad20-317b-4be6-d785-204dc69b7e81"
      },
      "execution_count": null,
      "outputs": [
        {
          "output_type": "execute_result",
          "data": {
            "text/plain": [
              "array([[0, 1, 2],\n",
              "       [3, 4, 5]])"
            ]
          },
          "metadata": {},
          "execution_count": 9
        }
      ]
    },
    {
      "cell_type": "code",
      "source": [
        "arr.transpose()"
      ],
      "metadata": {
        "colab": {
          "base_uri": "https://localhost:8080/"
        },
        "id": "feQPDtJuwY8e",
        "outputId": "eee50345-9630-4fd4-a29d-81b486b4e1a3"
      },
      "execution_count": null,
      "outputs": [
        {
          "output_type": "execute_result",
          "data": {
            "text/plain": [
              "array([[0, 3],\n",
              "       [1, 4],\n",
              "       [2, 5]])"
            ]
          },
          "metadata": {},
          "execution_count": 10
        }
      ]
    },
    {
      "cell_type": "code",
      "source": [
        "arr.T"
      ],
      "metadata": {
        "colab": {
          "base_uri": "https://localhost:8080/"
        },
        "id": "UriHZCghwhaZ",
        "outputId": "772014d3-287b-4f2c-eba7-ee950eaaab0c"
      },
      "execution_count": null,
      "outputs": [
        {
          "output_type": "execute_result",
          "data": {
            "text/plain": [
              "array([[0, 3],\n",
              "       [1, 4],\n",
              "       [2, 5]])"
            ]
          },
          "metadata": {},
          "execution_count": 11
        }
      ]
    }
  ],
  "metadata": {
    "colab": {
      "collapsed_sections": [],
      "name": "Copy of Welcome To Colaboratory",
      "provenance": []
    },
    "kernelspec": {
      "display_name": "Python 3",
      "name": "python3"
    }
  },
  "nbformat": 4,
  "nbformat_minor": 0
}